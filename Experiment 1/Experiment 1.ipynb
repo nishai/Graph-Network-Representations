{
 "cells": [
  {
   "cell_type": "markdown",
   "metadata": {},
   "source": [
    "# Experiment 1\n",
    "\n",
    "**Target Task:** Cora \n",
    "\n",
    "**Transfer learning Source Task:** Citeseer\n",
    "\n",
    "**Meta-learning Source Task:** Citeseer, Pubmed\n",
    "***\n",
    "## Installs & imports"
   ]
  },
  {
   "cell_type": "code",
   "execution_count": null,
   "metadata": {
    "scrolled": true
   },
   "outputs": [],
   "source": [
    "# ! pip install torch==1.5.0+cu101 torchvision==0.6.0+cu101 -f https://download.pytorch.org/whl/torch_stable.html\n",
    "\n",
    "# ! pip install torch-scatter==latest+cu101 -f https://pytorch-geometric.com/whl/torch-1.5.0.html\n",
    "# ! pip install torch-sparse==latest+cu101 -f https://pytorch-geometric.com/whl/torch-1.5.0.html\n",
    "# ! pip install torch-cluster==latest+cu101 -f https://pytorch-geometric.com/whl/torch-1.5.0.html\n",
    "# ! pip install torch-spline-conv==latest+cu101 -f https://pytorch-geometric.com/whl/torch-1.5.0.html\n",
    "# ! pip install torch-geometric\n",
    "\n",
    "# ! pip install --ignore-installed \"jsonschema>=2.6.0,<3.1.0\"\n",
    "! pip install comet_ml --upgrade --ignore-installed"
   ]
  },
  {
   "cell_type": "code",
   "execution_count": 64,
   "metadata": {},
   "outputs": [
    {
     "data": {
      "text/plain": [
       "device(type='cuda')"
      ]
     },
     "execution_count": 64,
     "metadata": {},
     "output_type": "execute_result"
    }
   ],
   "source": [
    "import numpy as np\n",
    "import copy\n",
    "import torch\n",
    "import torch.nn.functional as F\n",
    "import torch_geometric\n",
    "from torch_geometric.nn import GCNConv, SAGEConv, GATConv, VGAE\n",
    "from torch_geometric.data import DataLoader\n",
    "from torch_geometric.datasets import Planetoid\n",
    "from tqdm import tqdm\n",
    "from comet_ml import Experiment\n",
    "\n",
    "import warnings\n",
    "warnings.filterwarnings(\"ignore\")\n",
    "\n",
    "device = torch.device('cuda' if torch.cuda.is_available() else 'cpu')\n",
    "device"
   ]
  },
  {
   "cell_type": "markdown",
   "metadata": {},
   "source": [
    "***\n",
    "## Data & Experiment Setup"
   ]
  },
  {
   "cell_type": "code",
   "execution_count": 39,
   "metadata": {},
   "outputs": [
    {
     "name": "stdout",
     "output_type": "stream",
     "text": [
      "Cora\n",
      "-----\n",
      "2708 Nodes; 10556 Edges\n",
      "No. of features: 1433\n",
      "No. of classes: 7\n"
     ]
    }
   ],
   "source": [
    "cora = Planetoid('./data', 'Cora')\n",
    "\n",
    "print('Cora')\n",
    "print('-----')\n",
    "print('{} Nodes; {} Edges'.format(cora[0].num_nodes, cora[0].num_edges))\n",
    "print('No. of features: {}'.format(cora[0].num_features))\n",
    "print('No. of classes: {}'.format(cora.num_classes))\n",
    "\n",
    "cora_data = cora[0].to(device)"
   ]
  },
  {
   "cell_type": "code",
   "execution_count": 35,
   "metadata": {
    "scrolled": true
   },
   "outputs": [
    {
     "name": "stderr",
     "output_type": "stream",
     "text": [
      "COMET INFO: Experiment is live on comet.ml https://www.comet.ml/graph-net-experiments/experiment-1/c34b75080f6a4846b6d954a6c4f43d70\n",
      "\n"
     ]
    }
   ],
   "source": [
    "experiment = Experiment(project_name='experiment-1', display_summary_level=0)"
   ]
  },
  {
   "cell_type": "markdown",
   "metadata": {},
   "source": [
    "***\n",
    "## Training base models on Cora\n",
    "\n",
    "### GCN"
   ]
  },
  {
   "cell_type": "code",
   "execution_count": 53,
   "metadata": {},
   "outputs": [],
   "source": [
    "gcn_hyperparams = {\n",
    "    'hidden_dim' : 256,\n",
    "    'n_features' : cora[0].num_features,\n",
    "    'n_classes' : cora.num_classes,\n",
    "    'learning_rate': 0.001,\n",
    "    'num_epochs': 1000,\n",
    "}"
   ]
  },
  {
   "cell_type": "code",
   "execution_count": 52,
   "metadata": {},
   "outputs": [
    {
     "data": {
      "text/plain": [
       "GCN(\n",
       "  (conv1): GCNConv(1433, 256)\n",
       "  (conv2): GCNConv(256, 7)\n",
       ")"
      ]
     },
     "execution_count": 52,
     "metadata": {},
     "output_type": "execute_result"
    }
   ],
   "source": [
    "class GCN(torch.nn.Module):\n",
    "    def __init__(self, hidden_dim, n_features, n_classes):\n",
    "        super(GCN, self).__init__()\n",
    "        self.conv1 = GCNConv(n_features, hidden_dim)\n",
    "        self.conv2 = GCNConv(hidden_dim, n_classes)\n",
    "\n",
    "    def forward(self, data):\n",
    "        x, edge_index = data.x, data.edge_index\n",
    "\n",
    "        x = self.conv1(x, edge_index)\n",
    "        x = F.relu(x)\n",
    "        x = F.dropout(x, training=self.training)\n",
    "        x = self.conv2(x, edge_index)\n",
    "\n",
    "        return F.log_softmax(x, dim=1)\n",
    "    \n",
    "                             \n",
    "gcn = GCN(hidden_dim=gcn_hyperparams['hidden_dim'],\n",
    "        n_features=gcn_hyperparams['n_features'],\n",
    "        n_classes=gcn_hyperparams['n_classes']\n",
    "        ).to(device)\n",
    "                             \n",
    "optimizer = torch.optim.Adam(gcn.parameters(), lr=gcn_hyperparams['learning_rate'])\n",
    "\n",
    "gcn"
   ]
  },
  {
   "cell_type": "markdown",
   "metadata": {},
   "source": [
    "#### Training GCN on Cora"
   ]
  },
  {
   "cell_type": "code",
   "execution_count": null,
   "metadata": {
    "scrolled": false
   },
   "outputs": [],
   "source": [
    "gcn.train()\n",
    "\n",
    "for epoch in tqdm(range(gcn_hyperparams['num_epochs'])):\n",
    "    optimizer.zero_grad()\n",
    "    out = gcn(cora_data)\n",
    "    loss = F.nll_loss(out[cora_data.train_mask], cora_data.y[cora_data.train_mask])\n",
    "    loss.backward()\n",
    "    optimizer.step()\n",
    "    \n",
    "    experiment.log_metric(\"loss\", loss, step=epoch)"
   ]
  },
  {
   "cell_type": "code",
   "execution_count": 63,
   "metadata": {},
   "outputs": [
    {
     "name": "stdout",
     "output_type": "stream",
     "text": [
      "Accuracy: 0.7860\n"
     ]
    }
   ],
   "source": [
    "gcn.eval()\n",
    "\n",
    "_, pred = gcn(cora_data).max(dim=1)\n",
    "correct = float (pred[cora_data.test_mask].eq(cora_data.y[cora_data.test_mask]).sum().item())\n",
    "acc = correct / cora_data.test_mask.sum().item()\n",
    "print('Accuracy: {:.4f}'.format(acc))"
   ]
  },
  {
   "cell_type": "code",
   "execution_count": null,
   "metadata": {},
   "outputs": [],
   "source": [
    "experiment.end()"
   ]
  }
 ],
 "metadata": {
  "kernelspec": {
   "display_name": "Python 3",
   "language": "python",
   "name": "python3"
  },
  "language_info": {
   "codemirror_mode": {
    "name": "ipython",
    "version": 3
   },
   "file_extension": ".py",
   "mimetype": "text/x-python",
   "name": "python",
   "nbconvert_exporter": "python",
   "pygments_lexer": "ipython3",
   "version": "3.7.6"
  }
 },
 "nbformat": 4,
 "nbformat_minor": 4
}
