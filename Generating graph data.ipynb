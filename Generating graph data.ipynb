{
 "cells": [
  {
   "cell_type": "markdown",
   "metadata": {},
   "source": [
    "# Generating graph data"
   ]
  },
  {
   "cell_type": "code",
   "execution_count": 192,
   "metadata": {},
   "outputs": [],
   "source": [
    "import networkx as nx\n",
    "import numpy as np\n",
    "from matplotlib import pyplot as plt\n",
    "from ipywidgets import interactive, fixed"
   ]
  },
  {
   "cell_type": "markdown",
   "metadata": {},
   "source": [
    "## Graph generator"
   ]
  },
  {
   "cell_type": "code",
   "execution_count": 202,
   "metadata": {},
   "outputs": [],
   "source": [
    "def generate_graph(num_nodes, num_clusters, num_features, dist_params, p, q):\n",
    "    \"\"\"\n",
    "    Method to generate a graph with clusters, where different distributions generate node attributes\n",
    "    \n",
    "    Params:\n",
    "        num_nodes: Total nodes in the graph (int)\n",
    "        num_clusters: Number of clusters in the graph (int)\n",
    "        num_features: Length/dimensionality of node attribute vectors (int)\n",
    "        dist_params: The parameters of the distributions for each clsuter. List of length num_clusters with (μ, σ) tuple\n",
    "        p: Intra-cluster edge probability\n",
    "        q: Inter-cluster edge probability\n",
    "    \"\"\"\n",
    "    # init\n",
    "    g = nx.empty_graph()\n",
    "    A = np.zeros((num_nodes, num_nodes))\n",
    "\n",
    "    # randomly assign clusters\n",
    "    clusters = {\n",
    "        i : np.random.choice(np.arange(num_clusters)) \n",
    "        for i in range(num_nodes)\n",
    "    }\n",
    "\n",
    "    # use corresponding distributions to generate attributes\n",
    "    node_attrs = {\n",
    "        i: np.random.normal(loc=dist_params[c][0], scale=dist_params[c][1], size=num_features)\n",
    "        for i, c in clusters.items()\n",
    "    }\n",
    "\n",
    "    for i in range(num_nodes):\n",
    "        for j in range(num_nodes):\n",
    "            if i!=j:\n",
    "                # same cluster\n",
    "                if clusters[i] == clusters[j]:\n",
    "                    A[i][j] = np.random.normal(p, 0.2)\n",
    "                # different cluster\n",
    "                else: \n",
    "                    A[i][j] = np.random.normal(q, 0.2)\n",
    "\n",
    "    A = np.int32(A > 0.5) # threshold adjacency\n",
    "\n",
    "    g = nx.from_numpy_array(A)\n",
    "    nx.set_node_attributes(g, node_attrs, 'x')\n",
    "\n",
    "    return g, clusters\n",
    "\n",
    "\n",
    "def generate_and_draw(num_nodes, num_clusters, num_features, dist_params, p, q):\n",
    "    G, clusters = generate_graph(num_nodes, num_clusters, num_features, dist_params, p, q)\n",
    "\n",
    "    colours = ['red', 'blue', 'green', 'orange', 'pink', 'yellow', 'gray']\n",
    "    nx.draw(G, node_color=[colours[c] for c in clusters.values()])\n",
    "    plt.show()"
   ]
  },
  {
   "cell_type": "code",
   "execution_count": 204,
   "metadata": {
    "scrolled": false
   },
   "outputs": [
    {
     "data": {
      "application/vnd.jupyter.widget-view+json": {
       "model_id": "db05a716664f42b6aa6323daadb305a1",
       "version_major": 2,
       "version_minor": 0
      },
      "text/plain": [
       "interactive(children=(IntSlider(value=22, description='num_nodes', max=35, min=10), FloatSlider(value=0.75, de…"
      ]
     },
     "metadata": {},
     "output_type": "display_data"
    }
   ],
   "source": [
    "dist_params = [\n",
    "    (5, 0.9),\n",
    "    (3, 0.4),\n",
    "    (-1, 0.5),\n",
    "    (0,0.1)\n",
    "]\n",
    "\n",
    "interactive_plot = interactive(generate_and_draw, \n",
    "                        num_nodes=(10,35),\n",
    "                        num_clusters=fixed(4),\n",
    "                        num_features=fixed(2),\n",
    "                        dist_params=fixed(dist_params),\n",
    "                        p=(0.5,1.0),\n",
    "                        q=(0.0,0.3)\n",
    "                    )\n",
    "interactive_plot"
   ]
  }
 ],
 "metadata": {
  "kernelspec": {
   "display_name": "Python 3",
   "language": "python",
   "name": "python3"
  },
  "language_info": {
   "codemirror_mode": {
    "name": "ipython",
    "version": 3
   },
   "file_extension": ".py",
   "mimetype": "text/x-python",
   "name": "python",
   "nbconvert_exporter": "python",
   "pygments_lexer": "ipython3",
   "version": "3.7.6"
  }
 },
 "nbformat": 4,
 "nbformat_minor": 4
}
