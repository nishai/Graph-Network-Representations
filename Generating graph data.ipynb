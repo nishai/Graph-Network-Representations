{
 "cells": [
  {
   "cell_type": "markdown",
   "metadata": {},
   "source": [
    "# Generating graph data"
   ]
  },
  {
   "cell_type": "code",
   "execution_count": 1,
   "metadata": {},
   "outputs": [],
   "source": [
    "import networkx as nx\n",
    "import numpy as np\n",
    "from matplotlib import pyplot as plt\n",
    "from ipywidgets import interactive"
   ]
  },
  {
   "cell_type": "markdown",
   "metadata": {},
   "source": [
    "All graph generators can be found [here](https://networkx.github.io/documentation/networkx-1.10/reference/generators.html)."
   ]
  },
  {
   "cell_type": "code",
   "execution_count": 2,
   "metadata": {},
   "outputs": [
    {
     "data": {
      "application/vnd.jupyter.widget-view+json": {
       "model_id": "f30d9f120c2d4b03b57815208f9fbd8c",
       "version_major": 2,
       "version_minor": 0
      },
      "text/plain": [
       "interactive(children=(IntSlider(value=12, description='n', max=25), IntSlider(value=5, description='k', max=10…"
      ]
     },
     "metadata": {},
     "output_type": "display_data"
    }
   ],
   "source": [
    "def f(n,k,p):\n",
    "    g = nx.newman_watts_strogatz_graph(n,k,p)\n",
    "    nx.draw(g)\n",
    "    plt.show()\n",
    "    \n",
    "interactive_plot = interactive(f, n=(0,25), k=(0,10), p=(0.0,1.0))\n",
    "interactive_plot"
   ]
  },
  {
   "cell_type": "code",
   "execution_count": 3,
   "metadata": {},
   "outputs": [
    {
     "data": {
      "application/vnd.jupyter.widget-view+json": {
       "model_id": "f656296f6caa4d52a3707d4d627d0d01",
       "version_major": 2,
       "version_minor": 0
      },
      "text/plain": [
       "interactive(children=(IntSlider(value=12, description='n', max=25), FloatSlider(value=0.5, description='p', ma…"
      ]
     },
     "metadata": {},
     "output_type": "display_data"
    }
   ],
   "source": [
    "def f(n,p):\n",
    "    g = nx.erdos_renyi_graph(n,p)\n",
    "    nx.draw(g)\n",
    "    plt.show()\n",
    "    \n",
    "interactive_plot = interactive(f, n=(0,25), p=(0.0,1.0))\n",
    "interactive_plot"
   ]
  },
  {
   "cell_type": "code",
   "execution_count": 4,
   "metadata": {},
   "outputs": [
    {
     "data": {
      "application/vnd.jupyter.widget-view+json": {
       "model_id": "81dfa43d14d144128eed0b38b504be87",
       "version_major": 2,
       "version_minor": 0
      },
      "text/plain": [
       "interactive(children=(IntSlider(value=12, description='n', max=25), FloatSlider(value=0.5, description='p1', m…"
      ]
     },
     "metadata": {},
     "output_type": "display_data"
    }
   ],
   "source": [
    "def f(n,p1,p2):\n",
    "    g = nx.random_lobster(n,p1,p2)\n",
    "    nx.draw(g)\n",
    "    plt.show()\n",
    "    \n",
    "interactive_plot = interactive(f, n=(0,25), p1=(0.0,1.0), p2=(0.0,1.0))\n",
    "interactive_plot"
   ]
  },
  {
   "cell_type": "code",
   "execution_count": 5,
   "metadata": {},
   "outputs": [
    {
     "data": {
      "application/vnd.jupyter.widget-view+json": {
       "model_id": "bec0f3b5fb50497cb19c139cfae52ac3",
       "version_major": 2,
       "version_minor": 0
      },
      "text/plain": [
       "interactive(children=(IntSlider(value=12, description='n', max=25), FloatSlider(value=0.5, description='p', ma…"
      ]
     },
     "metadata": {},
     "output_type": "display_data"
    }
   ],
   "source": [
    "def f(n,p):\n",
    "    g = nx.duplication_divergence_graph(n,p)\n",
    "    nx.draw(g)\n",
    "    plt.show()\n",
    "    \n",
    "interactive_plot = interactive(f, n=(0,25), p=(0.0,1.0))\n",
    "interactive_plot"
   ]
  },
  {
   "cell_type": "code",
   "execution_count": 6,
   "metadata": {},
   "outputs": [
    {
     "data": {
      "application/vnd.jupyter.widget-view+json": {
       "model_id": "8aa58d6a8ced46858c50c8083e83c9d0",
       "version_major": 2,
       "version_minor": 0
      },
      "text/plain": [
       "interactive(children=(IntSlider(value=16, description='N', max=25, min=8), IntSlider(value=3, description='n',…"
      ]
     },
     "metadata": {},
     "output_type": "display_data"
    }
   ],
   "source": [
    "def f(N,n,p,q):\n",
    "    g = nx.partial_duplication_graph(N,n,p,q)\n",
    "    nx.draw(g)\n",
    "    plt.show()\n",
    "    \n",
    "interactive_plot = interactive(f, N=(8,25), n=(0,7), p=(0.0,1.0), q=(0.0,1.0))\n",
    "interactive_plot"
   ]
  },
  {
   "cell_type": "code",
   "execution_count": 7,
   "metadata": {},
   "outputs": [
    {
     "data": {
      "application/vnd.jupyter.widget-view+json": {
       "model_id": "b5b8be39fc94496fb2b4e2781cf0f173",
       "version_major": 2,
       "version_minor": 0
      },
      "text/plain": [
       "interactive(children=(IntSlider(value=12, description='n', max=25), FloatSlider(value=0.5, description='radius…"
      ]
     },
     "metadata": {},
     "output_type": "display_data"
    }
   ],
   "source": [
    "def f(n,radius):\n",
    "    g = nx.duplication_divergence_graph(n,radius)\n",
    "    nx.draw(g)\n",
    "    plt.show()\n",
    "    \n",
    "interactive_plot = interactive(f, n=(0,25), radius=(0.0,1.0))\n",
    "interactive_plot"
   ]
  },
  {
   "cell_type": "code",
   "execution_count": 8,
   "metadata": {},
   "outputs": [
    {
     "data": {
      "application/vnd.jupyter.widget-view+json": {
       "model_id": "e86a16bf8279436ca0f15b4093d24652",
       "version_major": 2,
       "version_minor": 0
      },
      "text/plain": [
       "interactive(children=(IntSlider(value=12, description='n', max=25), FloatSlider(value=0.5, description='alpha'…"
      ]
     },
     "metadata": {},
     "output_type": "display_data"
    }
   ],
   "source": [
    "def f(n,alpha,beta):\n",
    "    g = nx.waxman_graph(n,alpha,beta)\n",
    "    nx.draw(g)\n",
    "    plt.show()\n",
    "    \n",
    "interactive_plot = interactive(f, n=(0,25), alpha=(0.0,1.0), beta=(0.0,1.0))\n",
    "interactive_plot"
   ]
  },
  {
   "cell_type": "code",
   "execution_count": 9,
   "metadata": {},
   "outputs": [
    {
     "data": {
      "application/vnd.jupyter.widget-view+json": {
       "model_id": "a25a6339e96c415caf2bd63f17504ba4",
       "version_major": 2,
       "version_minor": 0
      },
      "text/plain": [
       "interactive(children=(IntSlider(value=2, description='n', max=5), IntSlider(value=3, description='p', max=5, m…"
      ]
     },
     "metadata": {},
     "output_type": "display_data"
    }
   ],
   "source": [
    "def f(n,p,q):\n",
    "    g = nx.navigable_small_world_graph(n,p,q)\n",
    "    nx.draw(g)\n",
    "    plt.show()\n",
    "    \n",
    "interactive_plot = interactive(f, n=(0,5), p=(1,5), q=(0,5))\n",
    "interactive_plot"
   ]
  },
  {
   "cell_type": "code",
   "execution_count": 10,
   "metadata": {},
   "outputs": [
    {
     "data": {
      "application/vnd.jupyter.widget-view+json": {
       "model_id": "7bbc3efc5a1c405bacaa9c2204d94d62",
       "version_major": 2,
       "version_minor": 0
      },
      "text/plain": [
       "interactive(children=(IntSlider(value=3, description='l', max=6, min=1), IntSlider(value=5, description='k', m…"
      ]
     },
     "metadata": {},
     "output_type": "display_data"
    }
   ],
   "source": [
    "def f(l,k):\n",
    "    g = nx.connected_caveman_graph(l,k)\n",
    "    nx.draw(g)\n",
    "    plt.show()\n",
    "    \n",
    "interactive_plot = interactive(f, l=(1,6), k=(1,10))\n",
    "interactive_plot"
   ]
  },
  {
   "cell_type": "code",
   "execution_count": 11,
   "metadata": {},
   "outputs": [
    {
     "data": {
      "application/vnd.jupyter.widget-view+json": {
       "model_id": "e81379b9638445d8adf314e672256176",
       "version_major": 2,
       "version_minor": 0
      },
      "text/plain": [
       "interactive(children=(IntSlider(value=12, description='n', max=25), FloatSlider(value=2.5, description='s', ma…"
      ]
     },
     "metadata": {},
     "output_type": "display_data"
    }
   ],
   "source": [
    "def f(n,s,v,p_in,p_out):\n",
    "    g = nx.gaussian_random_partition_graph(n,s,v,p_in, p_out)\n",
    "    nx.draw(g)\n",
    "    plt.show()\n",
    "    \n",
    "interactive_plot = interactive(f, n=(0,25), s=(0.0,5.0), v=(0.1,2.0), p_in=(0.0,1.0), p_out=(0.0,1.0))\n",
    "interactive_plot"
   ]
  },
  {
   "cell_type": "code",
   "execution_count": 12,
   "metadata": {},
   "outputs": [
    {
     "data": {
      "application/vnd.jupyter.widget-view+json": {
       "model_id": "0b4c6b14dde541d094760da80da1e9ce",
       "version_major": 2,
       "version_minor": 0
      },
      "text/plain": [
       "interactive(children=(IntSlider(value=12, description='n', max=25), IntSlider(value=4, description='k', max=7,…"
      ]
     },
     "metadata": {},
     "output_type": "display_data"
    }
   ],
   "source": [
    "def f(n,k):\n",
    "    g = nx.windmill_graph(n,k)\n",
    "    nx.draw(g)\n",
    "    plt.show()\n",
    "    \n",
    "interactive_plot = interactive(f, n=(0,25), k=(1,7))\n",
    "interactive_plot"
   ]
  }
 ],
 "metadata": {
  "kernelspec": {
   "display_name": "Python 3",
   "language": "python",
   "name": "python3"
  },
  "language_info": {
   "codemirror_mode": {
    "name": "ipython",
    "version": 3
   },
   "file_extension": ".py",
   "mimetype": "text/x-python",
   "name": "python",
   "nbconvert_exporter": "python",
   "pygments_lexer": "ipython3",
   "version": "3.7.6"
  }
 },
 "nbformat": 4,
 "nbformat_minor": 4
}
