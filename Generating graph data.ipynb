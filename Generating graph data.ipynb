{
 "cells": [
  {
   "cell_type": "markdown",
   "metadata": {},
   "source": [
    "# Generating graph data"
   ]
  },
  {
   "cell_type": "code",
   "execution_count": 1,
   "metadata": {},
   "outputs": [],
   "source": [
    "import networkx as nx\n",
    "import numpy as np\n",
    "from matplotlib import pyplot as plt\n",
    "from ipywidgets import interactive, fixed\n",
    "import time\n",
    "import numba\n",
    "from numba import jit\n",
    "\n",
    "import warnings\n",
    "warnings.filterwarnings(\"ignore\")"
   ]
  },
  {
   "cell_type": "markdown",
   "metadata": {},
   "source": [
    "## Graph generator"
   ]
  },
  {
   "cell_type": "code",
   "execution_count": 159,
   "metadata": {},
   "outputs": [],
   "source": [
    "def generate_graph(num_nodes, num_clusters, num_features, dist_params, p, q):\n",
    "    \"\"\"\n",
    "    Method to generate a graph with clusters, where different distributions generate node attributes\n",
    "    \n",
    "    Params:\n",
    "        num_nodes: Total nodes in the graph (int)\n",
    "        num_clusters: Number of clusters in the graph (int)\n",
    "        num_features: Length/dimensionality of node attribute vectors (int)\n",
    "        dist_params: The parameters of the distributions for each clsuter. List of length num_clusters with (μ, σ) tuple\n",
    "        p: Cluster level edge probability\n",
    "        q: Graph level edge probability\n",
    "    \"\"\"\n",
    "    # init\n",
    "    g = nx.empty_graph()\n",
    "    A = np.zeros((num_nodes, num_nodes))\n",
    "\n",
    "    # randomly assign clusters\n",
    "    clusters = {\n",
    "        i : np.random.choice(np.arange(num_clusters)) \n",
    "        for i in range(num_nodes)\n",
    "    }\n",
    "    \n",
    "    cluster_groups = {}\n",
    "    for key, value in sorted(clusters.items()):\n",
    "        cluster_groups.setdefault(value, []).append(key)\n",
    "\n",
    "    # use corresponding distributions to generate attributes\n",
    "    node_attrs = {\n",
    "        i: np.random.normal(loc=dist_params[c][0], scale=dist_params[c][1], size=num_features)\n",
    "        for i, c in clusters.items()\n",
    "    }\n",
    "    \n",
    "    # intra-cluster edges\n",
    "    for _, c_list in cluster_groups.items():\n",
    "        len_list = len(c_list)\n",
    "        \n",
    "        p_intra_cluster = np.abs( np.random.normal(p, 0.1))\n",
    "        max_edges = ((len_list**2)//2) if len_list < 500 else len_list\n",
    "        num_intra_cluster_edges = np.int32(p_intra_cluster * max_edges)\n",
    "        \n",
    "        for _ in range(num_intra_cluster_edges):\n",
    "            i = np.random.choice(c_list)\n",
    "            j = np.random.choice(c_list)\n",
    "            A[i][j] = 1 # remove self-loops after!!\n",
    "    \n",
    "    # other edges\n",
    "    p_other = np.abs(np.random.normal(q, 0.1))\n",
    "    num_other_edges = np.int32(p_other * (num_nodes))\n",
    "\n",
    "    for _ in range(num_other_edges):\n",
    "        i = np.random.choice(np.arange(num_nodes))\n",
    "        j = np.random.choice(np.arange(num_nodes))\n",
    "        A[i][j] = 1\n",
    "    \n",
    "    g = nx.from_numpy_array(A)\n",
    "    nx.set_node_attributes(g, node_attrs, 'x')\n",
    "    \n",
    "    return g, clusters\n",
    "\n",
    "\n",
    "def generate_and_draw(num_nodes, num_clusters, num_features, dist_params, p, q):\n",
    "    G, clusters = generate_graph(num_nodes, num_clusters, num_features, dist_params, p, q)\n",
    "\n",
    "    colours = ['red', 'blue', 'green', 'orange', 'pink', 'yellow', 'gray']\n",
    "    plt.figure(figsize=(10,7))\n",
    "    nx.draw(G, node_color=[colours[c] for c in clusters.values()])\n",
    "    plt.show()"
   ]
  },
  {
   "cell_type": "code",
   "execution_count": 162,
   "metadata": {
    "scrolled": false
   },
   "outputs": [
    {
     "data": {
      "application/vnd.jupyter.widget-view+json": {
       "model_id": "b3063cb4bd374c1aad94a80724a7f985",
       "version_major": 2,
       "version_minor": 0
      },
      "text/plain": [
       "interactive(children=(IntSlider(value=80, description='num_nodes', max=150, min=10), FloatSlider(value=0.5, de…"
      ]
     },
     "metadata": {},
     "output_type": "display_data"
    }
   ],
   "source": [
    "dist_params = [\n",
    "    (5, 0.9),\n",
    "    (3, 0.4),\n",
    "    (-1, 0.5),\n",
    "    (0,0.1)\n",
    "]\n",
    "\n",
    "interactive_plot = interactive(generate_and_draw, \n",
    "                        num_nodes=(10,150),\n",
    "                        num_clusters=fixed(4),\n",
    "                        num_features=fixed(2),\n",
    "                        dist_params=fixed(dist_params),\n",
    "                        p=(0.,1.0),\n",
    "                        q=(0.,1.0)\n",
    "                    )\n",
    "interactive_plot"
   ]
  },
  {
   "cell_type": "code",
   "execution_count": 149,
   "metadata": {},
   "outputs": [
    {
     "name": "stdout",
     "output_type": "stream",
     "text": [
      "Nodes  Time  \n",
      "10     0.002 s\n",
      "50     0.008 s\n",
      "100    0.030 s\n",
      "500    1.003 s\n",
      "1000   6.164 s\n",
      "5000   1.251 s\n",
      "10000  4.204 s\n",
      "15000  10.321s\n"
     ]
    }
   ],
   "source": [
    "print('{:6s} {:6s}'.format('Nodes', 'Time'))\n",
    "\n",
    "for N in [10, 50, 100, 500, 1000, 5000, 10000, 15000]:\n",
    "    start = time.time()\n",
    "\n",
    "    generate_graph(\n",
    "        num_nodes=N,\n",
    "        num_clusters=4,\n",
    "        num_features=2,\n",
    "        dist_params=dist_params,\n",
    "        p=0.75,\n",
    "        q=0.1\n",
    "    )\n",
    "\n",
    "    end = time.time()\n",
    "    print('{:<6d} {:<6.3f}s'.format(N, end-start))"
   ]
  }
 ],
 "metadata": {
  "kernelspec": {
   "display_name": "Python 3",
   "language": "python",
   "name": "python3"
  },
  "language_info": {
   "codemirror_mode": {
    "name": "ipython",
    "version": 3
   },
   "file_extension": ".py",
   "mimetype": "text/x-python",
   "name": "python",
   "nbconvert_exporter": "python",
   "pygments_lexer": "ipython3",
   "version": "3.7.6"
  }
 },
 "nbformat": 4,
 "nbformat_minor": 4
}
